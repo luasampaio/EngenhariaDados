{
 "cells": [
  {
   "cell_type": "code",
   "execution_count": null,
   "metadata": {},
   "outputs": [],
   "source": [
    "from airflow import DAG\n",
    "from cosmos import DbtTaskGroup\n",
    "from airflow.utils.dates import days_ago\n",
    "\n",
    "with DAG(\n",
    "    \"dbt_cosmos_pipeline\",\n",
    "    start_date=days_ago(1),\n",
    "    schedule_interval=\"@daily\",\n",
    "    catchup=False\n",
    ") as dag:\n",
    "    \n",
    "    dbt_run = DbtTaskGroup(\n",
    "        group_id=\"dbt_models\",\n",
    "        dir=\"/path/to/dbt/project\",\n",
    "        profile_args={\"target\": \"prod\"},\n",
    "    )\n",
    "\n",
    "    dbt_run\n"
   ]
  }
 ],
 "metadata": {
  "language_info": {
   "name": "python"
  }
 },
 "nbformat": 4,
 "nbformat_minor": 2
}

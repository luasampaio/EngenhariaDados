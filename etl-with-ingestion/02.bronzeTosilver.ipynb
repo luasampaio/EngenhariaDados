{
 "cells": [
  {
   "cell_type": "code",
   "execution_count": 1,
   "metadata": {},
   "outputs": [
    {
     "name": "stdout",
     "output_type": "stream",
     "text": [
      "Dados ingeridos com sucesso em: data/bronze\\clientes.csv\n"
     ]
    }
   ],
   "source": [
    "import pandas as pd\n",
    "import os\n",
    "\n",
    "def ingest_bronze(source_file, bronze_path):\n",
    "    \"\"\"\n",
    "    Ingere dados brutos de um arquivo CSV para a camada Bronze.\n",
    "\n",
    "    Args:\n",
    "        source_file (str): Caminho para o arquivo CSV de origem.\n",
    "        bronze_path (str): Caminho para o diretório da camada Bronze.\n",
    "    \"\"\"\n",
    "    try:\n",
    "        # Lê o arquivo CSV\n",
    "        df = pd.read_csv(source_file)\n",
    "\n",
    "        # Cria o nome do arquivo de destino na camada Bronze\n",
    "        filename = os.path.basename(source_file)\n",
    "        destination_file = os.path.join(bronze_path, filename)\n",
    "\n",
    "        # Salva o DataFrame na camada Bronze\n",
    "        df.to_csv(destination_file, index=False)\n",
    "\n",
    "        print(f\"Dados ingeridos com sucesso em: {destination_file}\")\n",
    "\n",
    "    except FileNotFoundError:\n",
    "        print(f\"Erro: arquivo de origem não encontrado: {source_file}\")\n",
    "    except Exception as e:\n",
    "        print(f\"Ocorreu um erro durante a ingestão: {e}\")\n",
    "\n",
    "# Exemplo de uso\n",
    "source_file = \"E:/etl-with-ingestion/data/raw/clientes.csv\"\n",
    "bronze_path = \"data/bronze\"  # Substitua pelo caminho da sua camada Bronze\n",
    "\n",
    "# Cria o diretório da camada Bronze se não existir\n",
    "os.makedirs(bronze_path, exist_ok=True)\n",
    "\n",
    "ingest_bronze(source_file, bronze_path)"
   ]
  },
  {
   "cell_type": "code",
   "execution_count": null,
   "metadata": {},
   "outputs": [],
   "source": []
  }
 ],
 "metadata": {
  "kernelspec": {
   "display_name": "base",
   "language": "python",
   "name": "python3"
  },
  "language_info": {
   "codemirror_mode": {
    "name": "ipython",
    "version": 3
   },
   "file_extension": ".py",
   "mimetype": "text/x-python",
   "name": "python",
   "nbconvert_exporter": "python",
   "pygments_lexer": "ipython3",
   "version": "3.12.7"
  }
 },
 "nbformat": 4,
 "nbformat_minor": 2
}

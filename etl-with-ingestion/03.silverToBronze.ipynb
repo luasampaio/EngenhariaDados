{
 "cells": [
  {
   "cell_type": "code",
   "execution_count": 2,
   "metadata": {},
   "outputs": [
    {
     "name": "stdout",
     "output_type": "stream",
     "text": [
      "Camada Silver criada com sucesso em: E:/etl-with-ingestion/data/silver\\clientes.csv\n"
     ]
    }
   ],
   "source": [
    "import pandas as pd\n",
    "import os\n",
    "from datetime import datetime\n",
    "\n",
    "def create_silver_layer(bronze_file, silver_path):\n",
    "    \"\"\"\n",
    "    Cria a camada Silver a partir dos dados da camada Bronze, adicionando a data e hora de processamento.\n",
    "\n",
    "    Args:\n",
    "        bronze_file (str): Caminho para o arquivo na camada Bronze.\n",
    "        silver_path (str): Caminho para o diretório da camada Silver.\n",
    "    \"\"\"\n",
    "    try:\n",
    "        # Lê o arquivo da camada Bronze\n",
    "        df_bronze = pd.read_csv(bronze_file)\n",
    "\n",
    "        # Remove duplicatas\n",
    "        df_silver = df_bronze.drop_duplicates()\n",
    "\n",
    "        # Adiciona a coluna de data e hora de processamento\n",
    "        df_silver['data_hora_processamento'] = datetime.now()\n",
    "\n",
    "        # Trata valores nulos (substitui por \"desconhecido\" na coluna \"cidade\")\n",
    "        # df_silver['cidade'] = df_silver['cidade'].fillna('desconhecido')\n",
    "\n",
    "        # Converte a coluna \"data_nascimento\" para o tipo datetime\n",
    "        # df_silver['data_nascimento'] = pd.to_datetime(df_silver['data_nascimento'], errors='coerce')\n",
    "\n",
    "        # Cria o nome do arquivo de destino na camada Silver\n",
    "        filename = os.path.basename(bronze_file)\n",
    "        destination_file = os.path.join(silver_path, filename)\n",
    "\n",
    "        # Salva o DataFrame na camada Silver\n",
    "        df_silver.to_csv(destination_file, index=False)\n",
    "\n",
    "        print(f\"Camada Silver criada com sucesso em: {destination_file}\")\n",
    "\n",
    "    except FileNotFoundError:\n",
    "        print(f\"Erro: arquivo da camada Bronze não encontrado: {bronze_file}\")\n",
    "    except Exception as e:\n",
    "        print(f\"Ocorreu um erro durante a criação da camada Silver: {e}\")\n",
    "\n",
    "# Exemplo de uso\n",
    "bronze_file = \"E:/etl-with-ingestion/data/bronze/clientes.csv\"\n",
    "silver_path = \"E:/etl-with-ingestion/data/silver\"\n",
    "\n",
    "# Cria o diretório da camada Silver se não existir\n",
    "os.makedirs(silver_path, exist_ok=True)\n",
    "\n",
    "create_silver_layer(bronze_file, silver_path)"
   ]
  }
 ],
 "metadata": {
  "kernelspec": {
   "display_name": "base",
   "language": "python",
   "name": "python3"
  },
  "language_info": {
   "codemirror_mode": {
    "name": "ipython",
    "version": 3
   },
   "file_extension": ".py",
   "mimetype": "text/x-python",
   "name": "python",
   "nbconvert_exporter": "python",
   "pygments_lexer": "ipython3",
   "version": "3.12.7"
  }
 },
 "nbformat": 4,
 "nbformat_minor": 2
}

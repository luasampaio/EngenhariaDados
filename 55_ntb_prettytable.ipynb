{
  "nbformat": 4,
  "nbformat_minor": 0,
  "metadata": {
    "colab": {
      "provenance": [],
      "authorship_tag": "ABX9TyPlo3qNbQqJTLnWt5x9eyZX",
      "include_colab_link": true
    },
    "kernelspec": {
      "name": "python3",
      "display_name": "Python 3"
    },
    "language_info": {
      "name": "python"
    }
  },
  "cells": [
    {
      "cell_type": "markdown",
      "metadata": {
        "id": "view-in-github",
        "colab_type": "text"
      },
      "source": [
        "<a href=\"https://colab.research.google.com/github/luasampaio/EngenhariaDados/blob/main/55_ntb_prettytable.ipynb\" target=\"_parent\"><img src=\"https://colab.research.google.com/assets/colab-badge.svg\" alt=\"Open In Colab\"/></a>"
      ]
    },
    {
      "cell_type": "code",
      "execution_count": 2,
      "metadata": {
        "id": "NtkWs6eXhM5p",
        "outputId": "8e83cc73-7937-44a0-8913-25825cfab294",
        "colab": {
          "base_uri": "https://localhost:8080/"
        }
      },
      "outputs": [
        {
          "output_type": "stream",
          "name": "stdout",
          "text": [
            "Requirement already satisfied: prettytable in /usr/local/lib/python3.11/dist-packages (3.16.0)\n",
            "Requirement already satisfied: wcwidth in /usr/local/lib/python3.11/dist-packages (from prettytable) (0.2.13)\n"
          ]
        }
      ],
      "source": [
        "%pip install prettytable"
      ]
    },
    {
      "cell_type": "code",
      "source": [
        "from prettytable import PrettyTable\n",
        "\n",
        "# Criar uma tabela\n",
        "tabela = PrettyTable()\n",
        "\n",
        "# Adicionar colunas\n",
        "tabela.field_names = [\"Nome\", \"Idade\", \"Profissão\"]\n",
        "\n",
        "# Adicionar linhas\n",
        "tabela.add_row([\"Luciana\", 32, \"Engenheira de Dados\"])\n",
        "tabela.add_row([\"Carlos\", 29, \"Analista de Sistemas\"])\n",
        "tabela.add_row([\"Marina\", 35, \"Cientista de Dados\"])\n",
        "\n",
        "# Exibir a tabela\n",
        "print(tabela)\n"
      ],
      "metadata": {
        "id": "N7trc8wRhQpH",
        "colab": {
          "base_uri": "https://localhost:8080/"
        },
        "outputId": "845527c0-694b-4ada-9b82-b936662df462"
      },
      "execution_count": 1,
      "outputs": [
        {
          "output_type": "stream",
          "name": "stdout",
          "text": [
            "+---------+-------+----------------------+\n",
            "|   Nome  | Idade |      Profissão       |\n",
            "+---------+-------+----------------------+\n",
            "| Luciana |   32  | Engenheira de Dados  |\n",
            "|  Carlos |   29  | Analista de Sistemas |\n",
            "|  Marina |   35  |  Cientista de Dados  |\n",
            "+---------+-------+----------------------+\n"
          ]
        }
      ]
    },
    {
      "cell_type": "code",
      "source": [
        "from prettytable import PrettyTable\n",
        "\n",
        "# Criar tabela e definir nomes das colunas\n",
        "tabela = PrettyTable()\n",
        "tabela.field_names = [\"Nome\", \"Idade\", \"Profissão\"]\n",
        "\n",
        "# Adicionar linhas\n",
        "tabela.add_rows([\n",
        "    [\"Luciana\", 32, \"Engenheira de Dados\"],\n",
        "    [\"Carlos\", 29, \"Analista de Sistemas\"],\n",
        "    [\"Marina\", 35, \"Cientista de Dados\"],\n",
        "    [\"André\", 28, \"Desenvolvedor Python\"],\n",
        "])\n",
        "\n",
        "# Alinhamento por coluna\n",
        "tabela.align[\"Nome\"] = \"l\"         # Alinhar à esquerda\n",
        "tabela.align[\"Profissão\"] = \"r\"    # Alinhar à direita\n",
        "tabela.align[\"Idade\"] = \"c\"        # Centralizar\n",
        "\n",
        "# Ordenar pela idade\n",
        "tabela.sortby = \"Idade\"\n",
        "\n",
        "# Mostrar tabela\n",
        "print(tabela)\n"
      ],
      "metadata": {
        "colab": {
          "base_uri": "https://localhost:8080/"
        },
        "id": "hbz_FHARrY4v",
        "outputId": "3f165724-560b-4c5a-e5c1-7018cc8ab327"
      },
      "execution_count": 3,
      "outputs": [
        {
          "output_type": "stream",
          "name": "stdout",
          "text": [
            "+---------+-------+----------------------+\n",
            "| Nome    | Idade |            Profissão |\n",
            "+---------+-------+----------------------+\n",
            "| André   |   28  | Desenvolvedor Python |\n",
            "| Carlos  |   29  | Analista de Sistemas |\n",
            "| Luciana |   32  |  Engenheira de Dados |\n",
            "| Marina  |   35  |   Cientista de Dados |\n",
            "+---------+-------+----------------------+\n"
          ]
        }
      ]
    },
    {
      "cell_type": "code",
      "source": [],
      "metadata": {
        "id": "DoxC8ck6syF-"
      },
      "execution_count": null,
      "outputs": []
    }
  ]
}